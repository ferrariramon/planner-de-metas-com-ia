{
  "nbformat": 4,
  "nbformat_minor": 0,
  "metadata": {
    "colab": {
      "provenance": []
    },
    "kernelspec": {
      "name": "python3",
      "display_name": "Python 3"
    },
    "language_info": {
      "name": "python"
    }
  },
  "cells": [
    {
      "cell_type": "code",
      "execution_count": 39,
      "metadata": {
        "id": "q41TWp_XOI3L"
      },
      "outputs": [],
      "source": [
        "# 🧠 PLANNER DE METAS COM IA – PROJETO DE IMERSÃO ALURA + GOOGLE GEMINI\n",
        "# Desenvolvido com base na aula 4 e 5 da imersão\n",
        "# 📦 Instalação da biblioteca oficial do Gemini\n",
        "\n",
        "!pip install -q google-generativeai\n"
      ]
    },
    {
      "cell_type": "code",
      "source": [
        "# 📥 Importando as bibliotecas necessárias\n",
        "import os\n",
        "import google.generativeai as genai\n",
        "\n",
        "# 🔐 Pegando a chave da variável de ambiente do Colab\n",
        "from google.colab import userdata\n",
        "api_key = userdata.get('GOOGLE_API_KEY_1')\n",
        "\n",
        "# ⚙️ Conectando com a API do Gemini\n",
        "genai.configure(api_key = api_key )\n"
      ],
      "metadata": {
        "id": "rx7Hfr-vSMuy"
      },
      "execution_count": 40,
      "outputs": []
    },
    {
      "cell_type": "code",
      "source": [
        "# 🧠 Criando o modelo que irá gerar os textos\n",
        "modelo = genai.GenerativeModel(\"gemini-2.0-flash\")"
      ],
      "metadata": {
        "id": "BCHJlw2ootib"
      },
      "execution_count": 41,
      "outputs": []
    },
    {
      "cell_type": "code",
      "source": [
        "# 🛠️ Função com dois agentes: primeiro interpreta a meta, depois planeja\n",
        "def criar_plano(meta_usuario):\n",
        "\n",
        "\n",
        "# 🎭 Agente 1: interpreta e reescreve a meta\n",
        "    prompt_interpretador = f\"\"\"\n",
        "    O usuário escreveu: \"{meta_usuario}\".\n",
        "    Reformule essa meta de forma mais clara e detalhada, como se fosse explicar para um mentor que vai ajudar.\n",
        "    \"\"\"\n",
        "\n",
        "    meta_reformulada = modelo.generate_content(prompt_interpretador).text.strip()\n",
        "\n",
        "    # 🧠 Agente 2: cria um plano com base na meta reformulada\n",
        "    prompt_planejador = f\"\"\"\n",
        "    Atue como um planejador pessoal com linguagem motivadora, empática e objetiva.\n",
        "    A meta do usuário é: {meta_reformulada}\n",
        "    Crie um plano com 3 a 5 ações práticas e realistas para os primeiros passos.\n",
        "    Evite termos técnicos. Fale como um bom mentor falaria com um amigo.\n",
        "    \"\"\"\n",
        "    plano_gerado = modelo.generate_content(prompt_planejador).text.strip()\n",
        "\n",
        "    return plano_gerado\n"
      ],
      "metadata": {
        "id": "GVKeTMQChm5-"
      },
      "execution_count": 42,
      "outputs": []
    },
    {
      "cell_type": "code",
      "source": [
        "# 👋 Início da conversa com o usuário\n",
        "print(\"🎯 Olá! Vou te ajudar a traçar um plano até seu objetivo!\")\n",
        "\n",
        "# 🧑 Captura do nome do usuário\n",
        "nome_usuario = input(\"Antes de começarmos, como você se chama? \")\n",
        "\n",
        "# 🧾 Captura da meta pessoal via terminal\n",
        "meta_usuario = input(f\"Agora me diga {nome_usuario}, em que posso ajudar você? \")\n",
        "\n",
        "# ✨ Gera o plano com base nos dois agentes\n",
        "plano_gerado = criar_plano(meta_usuario)\n",
        "\n",
        "# 📋 Exibe o plano na tela\n",
        "print(f\"\\n📋{nome_usuario}, aqui está seu plano personalizado:\")\n",
        "print(plano_gerado)"
      ],
      "metadata": {
        "colab": {
          "base_uri": "https://localhost:8080/",
          "height": 401
        },
        "id": "X1HXuOpmrcTX",
        "outputId": "b505f948-5234-42da-972d-7716023330e5"
      },
      "execution_count": 43,
      "outputs": [
        {
          "output_type": "stream",
          "name": "stdout",
          "text": [
            "🎯 Olá! Vou te ajudar a traçar um plano até seu objetivo!\n",
            "Antes de começarmos, como você se chama? ramon\n",
            "Agora me diga ramon, em que posso ajudar você? estudar\n",
            "\n",
            "📋ramon, aqui está seu plano personalizado:\n",
            "Olá! Que bom te ver por aqui, pronto para conquistar seus objetivos! Admiro essa sua iniciativa de otimizar o tempo e estudar de forma mais inteligente. Tenho certeza que, juntos, vamos criar um plano incrível para você.\n",
            "\n",
            "A primeira coisa é clareza: vamos desmistificar esse \"estudar\" e transformá-lo em algo bem concreto. Então, me conta:\n",
            "\n",
            "[**aqui você precisa especificar o que quer estudar:** uma matéria específica? Um curso? Um tema? Um idioma?]\n",
            "\n",
            "Lembre-se, quanto mais específico você for, mais fácil será criar um plano eficaz. E para te ajudar, responda às perguntas abaixo:\n",
            "\n",
            "*   **Qual o objetivo final desse estudo?** (Por que você quer estudar isso? O que você quer alcançar?)\n",
            "*   **Em quanto tempo você quer alcançar esse objetivo?** (Um prazo realista para te manter motivado!)\n",
            "*   **Quais são seus conhecimentos prévios sobre o assunto?** (O que você já sabe que pode te ajudar?)\n",
            "*   **Quais recursos você tem disponíveis?** (Livros, cursos, amigos que podem te ajudar?)\n",
            "*   **Quanto tempo você pode dedicar aos estudos por dia/semana?** (Seja honesto consigo mesmo para não se frustrar depois!)\n",
            "*   **Quais são os principais obstáculos que você prevê?** (Assim, podemos nos preparar para superá-los!)\n",
            "\n",
            "Assim que tivermos essas respostas, vamos criar um plano de estudos sob medida para você, com ações práticas e realistas para os seus primeiros passos. Combinado? 😉\n"
          ]
        }
      ]
    }
  ]
}